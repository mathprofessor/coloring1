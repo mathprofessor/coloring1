{
  "nbformat": 4,
  "nbformat_minor": 0,
  "metadata": {
    "colab": {
      "name": "Paper_Graph Chromatic Number and Max Clique Size Prediction.ipynb",
      "provenance": [],
      "collapsed_sections": [],
      "toc_visible": true,
      "machine_shape": "hm"
    },
    "kernelspec": {
      "name": "python3",
      "display_name": "Python 3"
    },
    "language_info": {
      "name": "python"
    },
    "accelerator": "GPU"
  },
  "cells": [
    {
      "cell_type": "markdown",
      "metadata": {
        "id": "yX-nf4SQQX_F"
      },
      "source": [
        "# Predicting the Chromatic Number and Maximum Clique Size of a Graph\n",
        "\n",
        "Authors: Josh Friedman and Jason Van Hulse\n",
        "\n",
        "***\n",
        "\n",
        "This notebook presents the convolutional neural network models that we have trained to learn the chromatic number $\\chi(G)$ and maximum clique size $\\omega(G)$ of a graph. Datasets of 50 by 50 graphs were generated with known values for $\\chi(G)$ and $\\omega(G)$. The input into the CNN model is the graph adjacency matrix; no domain-specific feature engineering was applied to the graphs. \n",
        "\n",
        "This notebook assumes that you have data in your local file system that has the following format:\n",
        "\n",
        "* Column 1: chromatic number $\\chi(G)$\n",
        "* Column 2: maximum clique size $\\omega(G)$\n",
        "* Columns 3+: entries of the graph adjacency matrix\n",
        "\n",
        "The code will read in the data and perform the appropriate transformations before model fitting. "
      ]
    },
    {
      "cell_type": "code",
      "metadata": {
        "id": "iiKoRQ4vlrxc"
      },
      "source": [
        "import numpy as np\n",
        "import pandas as pd\n",
        "import tensorflow as tf\n"
      ],
      "execution_count": null,
      "outputs": []
    },
    {
      "cell_type": "markdown",
      "metadata": {
        "id": "NKHlAL-7mCKP"
      },
      "source": [
        "## Section 1: Importing and Transforming the Raw Data\n",
        "\n",
        "\n"
      ]
    },
    {
      "cell_type": "code",
      "metadata": {
        "colab": {
          "base_uri": "https://localhost:8080/"
        },
        "id": "HUHvLT9MlxYS",
        "outputId": "8dec4db6-bc5d-494a-c8ed-cea27b402666"
      },
      "source": [
        "from google.colab import drive\n",
        "drive.mount(\"/data\")"
      ],
      "execution_count": null,
      "outputs": [
        {
          "output_type": "stream",
          "text": [
            "Drive already mounted at /data; to attempt to forcibly remount, call drive.mount(\"/data\", force_remount=True).\n"
          ],
          "name": "stdout"
        }
      ]
    },
    {
      "cell_type": "code",
      "metadata": {
        "id": "xP1ebA64nzIJ"
      },
      "source": [
        "def data_prep(data_loc, num_graph_vertices = 50):\n",
        "    '''\n",
        "    **************************\n",
        "    Description: This function reads in the raw data at location data_loc and returns \n",
        "            data structures that can be used to train and evaluate CNN models\n",
        "    **************************        \n",
        "    input: location of the data\n",
        "    output: three data structures that contain the input graph adjacency matrix as a 50 x 50 array (x_c), \n",
        "            the chromatic number (y_chrom), and the maximum clique size (y_mcs)\n",
        "            Note that both y_chrom and y_mcs are scaled to be between 0 and 1; they can \n",
        "            be transformed to the original values by multiplying by the number of vertices in the \n",
        "            graph\n",
        "    '''\n",
        "    raw_data = pd.read_csv(data_loc).to_numpy()\n",
        "    np.random.shuffle(raw_data)\n",
        "\n",
        "    x = raw_data[:, 2:]\n",
        "    x_c = x.reshape((len(x), num_graph_vertices, num_graph_vertices))\n",
        "    x_c = tf.expand_dims(x_c, -1)\n",
        "\n",
        "    y_chrom = raw_data[:, 0]/num_graph_vertices\n",
        "\n",
        "    y_mcs = raw_data[:, 1]/num_graph_vertices\n",
        "\n",
        "    return(x_c, y_chrom, y_mcs)\n"
      ],
      "execution_count": null,
      "outputs": []
    },
    {
      "cell_type": "code",
      "metadata": {
        "id": "8rpucCsPmXJ7"
      },
      "source": [
        "x_train, y_train_chrom, y_train_mcs = data_prep(\"/data/My Drive/Data/Apr30/train.csv\")\n",
        "x_dev, y_dev_chrom, y_dev_mcs = data_prep(\"/data/My Drive/Data/Apr30/dev.csv\")\n",
        "x_test, y_test_chrom, y_test_mcs = data_prep(\"/data/My Drive/Data/Apr30/test.csv\")"
      ],
      "execution_count": null,
      "outputs": []
    },
    {
      "cell_type": "markdown",
      "metadata": {
        "id": "LktRjRuGOUYh"
      },
      "source": [
        "## Section 2: Additional Evaluation Functions\n",
        "\n",
        "This section provides a few helpful functions for evaluating the output of the CNN models. "
      ]
    },
    {
      "cell_type": "code",
      "metadata": {
        "id": "-2DtL2wIOfg2"
      },
      "source": [
        "def create_df_output(clf, y, df):\n",
        "  '''\n",
        "    Creates an output dataframe that can be inspected and analyzed to better understand the predictions \n",
        "    of the deep neural network. For each record in the input dataframe `df`, the actual and predicted \n",
        "    values and the error and absolute error `abs_error` are computed. \n",
        "    Note that because we scaled the target variable to be between 0 and 1, we rescale the target \n",
        "    to its original value and likewise scale up the prediction. \n",
        "  '''\n",
        "  df_output = pd.DataFrame()\n",
        "  df_output['actual'] = y*50\n",
        "  df_output['pred'] = clf.predict(df)*50\n",
        "  df_output['error'] = df_output.actual - df_output.pred\n",
        "  df_output['abs_error'] = np.abs(df_output['error'])\n",
        "\n",
        "  return(df_output)\n",
        "\n",
        "def show_percentiles(df):\n",
        "    '''\n",
        "    Returns the percentiles of the absolute error metric for the input dataframe `df`\n",
        "    '''\n",
        "    return(df['abs_error'].describe(percentiles = [.25, .50, .75, .90, .95, .99, 1.00]))\n",
        "\n",
        "def compute_pl(df, diff):\n",
        "    '''\n",
        "    Computes the metric p_l, which shows the percentage of records in the dataset\n",
        "    with an absolute error <= diff, a user input parameter (typically 0.5 or 1)\n",
        "    '''\n",
        "    print(\"% within \", diff, \"of true chromatic or clique #:\", \n",
        "          100 * np.sum(df['abs_error']<= diff) / np.sum(df['abs_error']>= 0))\n"
      ],
      "execution_count": null,
      "outputs": []
    },
    {
      "cell_type": "markdown",
      "metadata": {
        "id": "mFTpkjcGswrj"
      },
      "source": [
        "## Section 3: Sequential Convolutional Neural Network\n",
        "\n",
        "In this section, we define a sequential convolutional neural network architecture to predict the chromatic number and maximum clique size. \n",
        "\n",
        "The CNN consists of a `Conv2D` layer with 512 filters and `kernel_size` = (3,3), followed by a `MaxPooling2D` layer with `pool_size`= 2 and a `LeakyReLU` layer. A `Conv2D` layer with 64 filters, `MaxPooling` layer, and `LeakyReLU` layer follow. \n",
        "\n",
        "The output is then flattened and processed through a series of dense layers with 300 hidden nodes per layer and `LeakyReLU` activation function. "
      ]
    },
    {
      "cell_type": "code",
      "metadata": {
        "id": "Kn3Pxk91_m2x"
      },
      "source": [
        "from tensorflow.keras.layers import InputLayer, Conv2D, MaxPooling2D, Dense, Flatten, LeakyReLU\n",
        "from tensorflow.keras.callbacks import EarlyStopping\n",
        "\n",
        "\n",
        "tf.keras.backend.clear_session()\n",
        "\n",
        "class Cnn(tf.keras.Model):\n",
        "\n",
        "    def __init__(self):\n",
        "        super(Cnn, self).__init__()\n",
        "        self.inp = InputLayer(input_shape = (50, 50, 1))\n",
        "        self.conv1 = Conv2D(512, 3, padding = 'same')\n",
        "        self.lr1 = LeakyReLU(0.05)\n",
        "        self.mp1 = MaxPooling2D(2) \n",
        "        self.conv2 = Conv2D(64, 3, padding = 'same')\n",
        "        self.lr2 = LeakyReLU(0.05)\n",
        "        self.mp2 = MaxPooling2D(2) \n",
        "    \n",
        "        self.flatten = Flatten()\n",
        "        self.dense1 = Dense(300) \n",
        "        self.lr3 = LeakyReLU(0.05)\n",
        "        self.dense2 = Dense(300)\n",
        "        self.lr4 = LeakyReLU(0.05)\n",
        "        self.dense3 = Dense(300)\n",
        "        self.lr5 = LeakyReLU(0.05)\n",
        "        self.dense4 = Dense(300)\n",
        "        self.lr6 = LeakyReLU(0.05)\n",
        "        self.dense5 = Dense(300)\n",
        "        self.lr7 = LeakyReLU(0.05)\n",
        "        self.dense6 = Dense(300)\n",
        "        self.lr8 = LeakyReLU(0.05)\n",
        "        self.dense7 = Dense(300)\n",
        "        self.lr9 = LeakyReLU(0.05)\n",
        "    \n",
        "        self.out = Dense(1, activation = 'linear')\n",
        "\n",
        "    def call(self, inputs):\n",
        "        x = self.inp(inputs)\n",
        "        x = self.conv1(x)\n",
        "        x = self.lr1(x)\n",
        "        x = self.mp1(x)\n",
        "        x = self.conv2(x)\n",
        "        x = self.lr2(x)\n",
        "        x = self.mp2(x)\n",
        "        x = self.flatten(x)\n",
        "        x = self.dense1(x)\n",
        "        x = self.lr3(x)\n",
        "        x = self.dense2(x)\n",
        "        x = self.lr4(x)\n",
        "        x = self.dense3(x)\n",
        "        x = self.lr5(x)\n",
        "        x = self.dense4(x)\n",
        "        x = self.lr6(x)\n",
        "        x = self.dense5(x)\n",
        "        x = self.lr7(x)\n",
        "        x = self.dense6(x)\n",
        "        x = self.lr8(x)\n",
        "        x = self.dense7(x)\n",
        "        x = self.lr9(x)\n",
        "        return self.out(x)\n",
        "\n"
      ],
      "execution_count": null,
      "outputs": []
    },
    {
      "cell_type": "markdown",
      "metadata": {
        "id": "m6zeMiJ_mWm2"
      },
      "source": [
        "### Predicting the Chromatic Number"
      ]
    },
    {
      "cell_type": "code",
      "metadata": {
        "colab": {
          "base_uri": "https://localhost:8080/"
        },
        "id": "-EPv4pR0w7w9",
        "outputId": "f90f1ae7-3c0f-4681-e659-63e7bb672e5d"
      },
      "source": [
        "cnn_chrom = Cnn()\n",
        "\n",
        "cnn_chrom.compile(optimizer = tf.keras.optimizers.Adam(), loss = tf.keras.losses.MAE)\n",
        "\n",
        "early_stopping_callback = EarlyStopping(patience = 50, monitor = 'val_loss', restore_best_weights = True, \n",
        "                                        min_delta = 0.000001)\n",
        "\n",
        "cnn_chrom.fit(x_train, y_train_chrom, validation_data= (x_dev, y_dev_chrom), \n",
        "                      epochs = 500, verbose = 0, \n",
        "                      callbacks = [early_stopping_callback])\n",
        "\n",
        "cnn_chrom.evaluate(x = x_dev, y = y_dev_chrom)"
      ],
      "execution_count": null,
      "outputs": [
        {
          "output_type": "stream",
          "text": [
            "782/782 [==============================] - 4s 5ms/step - loss: 0.0086\n"
          ],
          "name": "stdout"
        },
        {
          "output_type": "execute_result",
          "data": {
            "text/plain": [
              "0.008576658554375172"
            ]
          },
          "metadata": {
            "tags": []
          },
          "execution_count": 9
        }
      ]
    },
    {
      "cell_type": "code",
      "metadata": {
        "colab": {
          "base_uri": "https://localhost:8080/"
        },
        "id": "NeLyVnu5VxyP",
        "outputId": "bcf1c54b-dbb2-46ab-dec6-a7ac9cf215a3"
      },
      "source": [
        "out = create_df_output(cnn_chrom, y_test_chrom, x_test)\n",
        "\n",
        "show_percentiles(out)"
      ],
      "execution_count": null,
      "outputs": [
        {
          "output_type": "execute_result",
          "data": {
            "text/plain": [
              "count    24999.000000\n",
              "mean         0.426984\n",
              "std          0.439606\n",
              "min          0.000010\n",
              "25%          0.122424\n",
              "50%          0.310355\n",
              "75%          0.599364\n",
              "90%          0.909940\n",
              "95%          1.169851\n",
              "99%          2.234732\n",
              "100%         5.463226\n",
              "max          5.463226\n",
              "Name: abs_error, dtype: float64"
            ]
          },
          "metadata": {
            "tags": []
          },
          "execution_count": 11
        }
      ]
    },
    {
      "cell_type": "code",
      "metadata": {
        "colab": {
          "base_uri": "https://localhost:8080/"
        },
        "id": "VJmb6P2ekRXX",
        "outputId": "a6836b44-be16-4af2-98a0-6aca7fa2e3df"
      },
      "source": [
        "out['per_error'] = 100 * out['abs_error']/out['actual']\n",
        "\n",
        "out['per_error'].describe()"
      ],
      "execution_count": null,
      "outputs": [
        {
          "output_type": "execute_result",
          "data": {
            "text/plain": [
              "count    24999.000000\n",
              "mean         5.489368\n",
              "std          6.802970\n",
              "min          0.000286\n",
              "25%          1.611137\n",
              "50%          3.611746\n",
              "75%          6.804798\n",
              "max         77.306724\n",
              "Name: per_error, dtype: float64"
            ]
          },
          "metadata": {
            "tags": []
          },
          "execution_count": 12
        }
      ]
    },
    {
      "cell_type": "code",
      "metadata": {
        "colab": {
          "base_uri": "https://localhost:8080/",
          "height": 513
        },
        "id": "m7M3FYnDkqF2",
        "outputId": "f4e79b55-bbe8-424d-f3d2-22767abfe1a7"
      },
      "source": [
        "import matplotlib.pyplot as plt\n",
        "import seaborn as sns\n",
        "\n",
        "gps = [0, 2, 4, 6, 9, 15, 20, 50]\n",
        "\n",
        "out['groups'] = pd.cut(out['actual'], bins = gps)\n",
        "\n",
        "plt.rcParams.update({'font.size': 18})\n",
        "\n",
        "plt.figure(figsize=(12, 8))\n",
        "sns.boxplot(data= out, x = 'groups', y = 'abs_error', color = 'grey')\n",
        "#plt.title(\"Absolute Error Distribution by Chromatic Number\")\n",
        "plt.ylabel(\"Absolute Error\")\n",
        "plt.xlabel(\"Chromatic Number \")\n",
        "plt.show()  "
      ],
      "execution_count": null,
      "outputs": [
        {
          "output_type": "display_data",
          "data": {
            "image/png": "[encoded data removed]",
            "text/plain": [
              "<Figure size 864x576 with 1 Axes>"
            ]
          },
          "metadata": {
            "tags": [],
            "needs_background": "light"
          }
        }
      ]
    },
    {
      "cell_type": "code",
      "metadata": {
        "colab": {
          "base_uri": "https://localhost:8080/"
        },
        "id": "iJDZtzEVeY65",
        "outputId": "1bfe58c4-b3ae-4cb0-c2d2-25fbe8870a8a"
      },
      "source": [
        "compute_pl(out, 1)\n",
        "compute_pl(out, 0.5)"
      ],
      "execution_count": null,
      "outputs": [
        {
          "output_type": "stream",
          "text": [
            "% within  1 of true chromatic or clique #: 92.62370494819793\n",
            "% within  0.5 of true chromatic or clique #: 67.95471818872755\n"
          ],
          "name": "stdout"
        }
      ]
    },
    {
      "cell_type": "markdown",
      "metadata": {
        "id": "Dh6BfG6JmQo4"
      },
      "source": [
        "### Predicting the Maximum Clique Size"
      ]
    },
    {
      "cell_type": "code",
      "metadata": {
        "colab": {
          "base_uri": "https://localhost:8080/"
        },
        "id": "Qg-MG7bQOY9R",
        "outputId": "c4ba1b6b-f8f2-4cd4-9fef-92b9aa12c376"
      },
      "source": [
        "cnn_mcs = Cnn()\n",
        "\n",
        "cnn_mcs.compile(optimizer = tf.keras.optimizers.Adam(), loss = tf.keras.losses.MAE)\n",
        "\n",
        "cnn_mcs.fit(x_train, y_train_mcs, validation_data= (x_dev, y_dev_mcs), \n",
        "                      epochs = 500, verbose = 0, \n",
        "                      callbacks = [early_stopping_callback])\n",
        "\n",
        "cnn_mcs.evaluate(x = x_dev, y = y_dev_mcs)"
      ],
      "execution_count": null,
      "outputs": [
        {
          "output_type": "stream",
          "text": [
            "782/782 [==============================] - 4s 5ms/step - loss: 0.0110\n"
          ],
          "name": "stdout"
        },
        {
          "output_type": "execute_result",
          "data": {
            "text/plain": [
              "0.01104268804192543"
            ]
          },
          "metadata": {
            "tags": []
          },
          "execution_count": 15
        }
      ]
    },
    {
      "cell_type": "code",
      "metadata": {
        "colab": {
          "base_uri": "https://localhost:8080/"
        },
        "id": "1RuZRvQHp6Ib",
        "outputId": "bf18658a-748a-4c66-a78d-e08e570f146b"
      },
      "source": [
        "out = create_df_output(cnn_mcs, y_test_mcs, x_test)\n",
        "\n",
        "show_percentiles(out)"
      ],
      "execution_count": null,
      "outputs": [
        {
          "output_type": "execute_result",
          "data": {
            "text/plain": [
              "count    24999.000000\n",
              "mean         0.548836\n",
              "std          0.548158\n",
              "min          0.000019\n",
              "25%          0.099669\n",
              "50%          0.381279\n",
              "75%          0.886556\n",
              "90%          1.199483\n",
              "95%          1.563155\n",
              "99%          2.399153\n",
              "100%         5.558903\n",
              "max          5.558903\n",
              "Name: abs_error, dtype: float64"
            ]
          },
          "metadata": {
            "tags": []
          },
          "execution_count": 16
        }
      ]
    },
    {
      "cell_type": "code",
      "metadata": {
        "colab": {
          "base_uri": "https://localhost:8080/"
        },
        "id": "qsP7TzeDkCMY",
        "outputId": "b4bfef36-ddb4-4bf4-bb7f-d672345d4e41"
      },
      "source": [
        "out['per_error'] = 100 * out['abs_error']/out['actual']\n",
        "\n",
        "out['per_error'].describe()"
      ],
      "execution_count": null,
      "outputs": [
        {
          "output_type": "execute_result",
          "data": {
            "text/plain": [
              "count    24999.000000\n",
              "mean         7.412665\n",
              "std          8.902003\n",
              "min          0.000528\n",
              "25%          1.808377\n",
              "50%          4.299364\n",
              "75%         10.022158\n",
              "max        101.062083\n",
              "Name: per_error, dtype: float64"
            ]
          },
          "metadata": {
            "tags": []
          },
          "execution_count": 17
        }
      ]
    },
    {
      "cell_type": "code",
      "metadata": {
        "colab": {
          "base_uri": "https://localhost:8080/"
        },
        "id": "JzSW-KG1en1G",
        "outputId": "164b1094-82b4-4ade-caa4-a071304867ad"
      },
      "source": [
        "compute_pl(out, 1)\n",
        "compute_pl(out, 0.5)"
      ],
      "execution_count": null,
      "outputs": [
        {
          "output_type": "stream",
          "text": [
            "% within  1 of true chromatic or clique #: 81.57126285051402\n",
            "% within  0.5 of true chromatic or clique #: 56.506260250410016\n"
          ],
          "name": "stdout"
        }
      ]
    },
    {
      "cell_type": "markdown",
      "metadata": {
        "id": "ACv1LETQMd_a"
      },
      "source": [
        "## Section 4: Wide Convolutional Neural Network\n",
        "\n",
        "The wide CNN consists of five parallel convolutional pipelines with different size filters and strides in order to capture different relationships between vertices in the graph. Another way to think about this architecture is that it augments the sequential CNN (which only considers 3 by 3 kernels) with additional convolutional pipelines with larger kernels. "
      ]
    },
    {
      "cell_type": "code",
      "metadata": {
        "id": "HJGOhKEOMmL8"
      },
      "source": [
        "from tensorflow.keras.layers import Input, Conv2D, MaxPooling2D, Dense, Flatten, LeakyReLU, Concatenate\n",
        "from tensorflow.keras.models import Model\n",
        "\n",
        "tf.keras.backend.clear_session()\n",
        "\n",
        "class Wide_cnn(tf.keras.Model):\n",
        "\n",
        "    def __init__(self):\n",
        "        super(Wide_cnn, self).__init__()\n",
        "        self.inp = InputLayer(input_shape = (50, 50, 1))\n",
        "\n",
        "        self.conv2d_0_1 = Conv2D(512, kernel_size=(3,3), strides = 1, padding = 'same')\n",
        "        self.lr_0_1 = LeakyReLU(alpha = 0.05)\n",
        "        self.mp_0_1 = MaxPooling2D(2)\n",
        "        self.conv2d_0_2 = Conv2D(64, kernel_size=(3,3), strides = 1, padding = 'same')\n",
        "        self.lr_0_2 = LeakyReLU(alpha = 0.05)\n",
        "        self.mp_0_2 = MaxPooling2D(2)\n",
        "        self.flatten_0 =  Flatten()\n",
        "\n",
        "        self.conv2d_1_1 = Conv2D(512, kernel_size = (5,5), strides = 5, padding = 'same')\n",
        "        self.lr_1_1 = LeakyReLU(alpha=0.05)\n",
        "        self.mp_1_1 = MaxPooling2D(2)\n",
        "        self.conv2d_1_2 =Conv2D(64, kernel_size = (5,5), strides = 1, padding = 'same')\n",
        "        self.lr_1_2 = LeakyReLU(alpha=0.05)\n",
        "        self.flatten_1 = Flatten()\n",
        "\n",
        "        self.conv2d_2_1 = Conv2D(512, kernel_size = (10,10), strides = 10, padding = 'same')\n",
        "        self.lr_2_1 = LeakyReLU(alpha=0.05)\n",
        "        self.mp_2_1 = MaxPooling2D(2)\n",
        "        self.conv2d_2_2 = Conv2D(64, kernel_size = (10,10), strides = 1, padding = 'same')\n",
        "        self.lr_2_2  = LeakyReLU(alpha=0.05)\n",
        "        self.flatten_2 = Flatten()\n",
        "\n",
        "        self.conv2d_3_1 = Conv2D(512, kernel_size = (25,25), strides = 25, padding = 'same')\n",
        "        self.lr_3_1 = LeakyReLU(alpha=0.05)\n",
        "        self.flatten_3 =  Flatten()\n",
        "\n",
        "        self.conv2d_4_1 =  Conv2D(512, kernel_size = (50, 50), strides = 50, padding = 'same')\n",
        "        self.lr_4_1 =  LeakyReLU(alpha=0.05)\n",
        "        self.flatten_4 = Flatten()\n",
        "\n",
        "        self.concatenate = Concatenate()\n",
        "\n",
        "        self.dense_1 = Dense(200)\n",
        "        self.lr_1 = LeakyReLU(alpha=0.05)\n",
        "        self.dense_2  = Dense(200)  \n",
        "        self.lr_2 = LeakyReLU(alpha=0.05)\n",
        "        self.dense_3 = Dense(200)\n",
        "        self.lr_3 = LeakyReLU(alpha=0.05)\n",
        "        self.dense_4 = Dense(200)\n",
        "        self.lr_4  = LeakyReLU(alpha=0.05)\n",
        "        self.dense_5  = Dense(200)\n",
        "        self.lr_5  = LeakyReLU(alpha=0.05)\n",
        "\n",
        "        self.out  = Dense(1, activation = 'linear')\n",
        "\n",
        "    def call(self, inputs):\n",
        "        i = self.inp(inputs)\n",
        "\n",
        "        x0 = self.conv2d_0_1(i)\n",
        "        x0 = self.lr_0_1(x0)\n",
        "        x0 = self.mp_0_1(x0)\n",
        "        x0 = self.conv2d_0_2(x0)\n",
        "        x0 = self.lr_0_2(x0)\n",
        "        x0 = self.mp_0_2(x0)\n",
        "        x0 = self.flatten_0(x0)\n",
        "\n",
        "        x1 = self.conv2d_1_1(i)\n",
        "        x1 = self.lr_1_1(x1)\n",
        "        x1 = self.mp_1_1(x1)\n",
        "        x1 = self.conv2d_1_2(x1)\n",
        "        x1 = self.lr_1_2(x1)\n",
        "        x1 = self.flatten_1(x1)\n",
        "\n",
        "        x2 = self.conv2d_2_1(i)\n",
        "        x2 = self.lr_2_1(x2)\n",
        "        x2 = self.mp_2_1(x2)    \n",
        "        x2 = self.conv2d_2_2(x2)\n",
        "        x2 = self.lr_2_2(x2)\n",
        "        x2 = self.flatten_2(x2)\n",
        "\n",
        "        x3 = self.conv2d_3_1(i) \n",
        "        x3 = self.lr_3_1(x3)\n",
        "        x3 = self.flatten_3(x3)\n",
        "\n",
        "        x4 = self.conv2d_4_1(i)\n",
        "        x4 = self.lr_4_1(x4)\n",
        "        x4 = self.flatten_4(x4)\n",
        "\n",
        "        x = self.concatenate([x0, x1, x2,x3,x4])\n",
        "\n",
        "        x = self.dense_1(x)\n",
        "        x = self.lr_1(x)\n",
        "        x = self.dense_2(x)\n",
        "        x = self.lr_2(x)\n",
        "        x = self.dense_3(x)\n",
        "        x = self.lr_3(x)\n",
        "        x = self.dense_4(x)\n",
        "        x = self.lr_4(x)\n",
        "        x = self.dense_5(x)\n",
        "        x = self.lr_5(x)\n",
        "\n",
        "        return self.out(x)"
      ],
      "execution_count": null,
      "outputs": []
    },
    {
      "cell_type": "markdown",
      "metadata": {
        "id": "DIZ-IODZlVgc"
      },
      "source": [
        "### Predicting the Chromatic Number"
      ]
    },
    {
      "cell_type": "code",
      "metadata": {
        "id": "utc3yOUJM1Ka",
        "colab": {
          "base_uri": "https://localhost:8080/"
        },
        "outputId": "c95e2d61-156b-406c-ceb4-7ac08879bf9a"
      },
      "source": [
        "from tensorflow.keras.callbacks import EarlyStopping\n",
        "\n",
        "early_stopping_callback = EarlyStopping(patience = 20, monitor = 'val_loss', restore_best_weights = True, \n",
        "                                        min_delta = 0.000001)\n",
        "\n",
        "wide_cnn_chrom = Wide_cnn()\n",
        "\n",
        "wide_cnn_chrom.compile(optimizer = tf.keras.optimizers.Adam(), loss = tf.keras.losses.MAE)\n",
        "\n",
        "wide_cnn_chrom.fit(x_train, y_train_chrom, validation_data = (x_dev, y_dev_chrom), \n",
        "                      epochs = 300, verbose = 0, callbacks = [early_stopping_callback])\n",
        "\n",
        "wide_cnn_chrom.evaluate(x = x_dev, y = y_dev_chrom)"
      ],
      "execution_count": null,
      "outputs": [
        {
          "output_type": "stream",
          "text": [
            "782/782 [==============================] - 5s 7ms/step - loss: 0.0076\n"
          ],
          "name": "stdout"
        },
        {
          "output_type": "execute_result",
          "data": {
            "text/plain": [
              "0.007648102007806301"
            ]
          },
          "metadata": {
            "tags": []
          },
          "execution_count": 20
        }
      ]
    },
    {
      "cell_type": "code",
      "metadata": {
        "colab": {
          "base_uri": "https://localhost:8080/"
        },
        "id": "SZFjfGvqKWXq",
        "outputId": "7db1f510-878b-40ad-8a74-99db0ea10987"
      },
      "source": [
        "out = create_df_output(wide_cnn_chrom, y_test_chrom, x_test)\n",
        "\n",
        "show_percentiles(out)"
      ],
      "execution_count": null,
      "outputs": [
        {
          "output_type": "execute_result",
          "data": {
            "text/plain": [
              "count    24999.000000\n",
              "mean         0.384710\n",
              "std          0.433855\n",
              "min          0.000000\n",
              "25%          0.029888\n",
              "50%          0.239033\n",
              "75%          0.612763\n",
              "90%          0.989220\n",
              "95%          1.096496\n",
              "99%          1.853118\n",
              "100%         4.733044\n",
              "max          4.733044\n",
              "Name: abs_error, dtype: float64"
            ]
          },
          "metadata": {
            "tags": []
          },
          "execution_count": 21
        }
      ]
    },
    {
      "cell_type": "code",
      "metadata": {
        "colab": {
          "base_uri": "https://localhost:8080/",
          "height": 513
        },
        "id": "1WE1hX3NiM0G",
        "outputId": "ac1c8519-dbb8-4139-daba-d6b2c73de116"
      },
      "source": [
        "import matplotlib.pyplot as plt\n",
        "import seaborn as sns\n",
        "\n",
        "gps = [0, 2, 4, 6, 9, 15, 20, 50]\n",
        "\n",
        "out['groups'] = pd.cut(out['actual'], bins = gps)\n",
        "\n",
        "plt.rcParams.update({'font.size': 18})\n",
        "\n",
        "plt.figure(figsize=(12, 8))\n",
        "sns.boxplot(data= out, x = 'groups', y = 'abs_error', color = 'grey')\n",
        "#plt.title(\"Absolute Error Distribution by Chromatic Number\")\n",
        "plt.ylabel(\"Absolute Error\")\n",
        "plt.xlabel(\"Chromatic Number \")\n",
        "plt.show()  "
      ],
      "execution_count": null,
      "outputs": [
        {
          "output_type": "display_data",
          "data": {
            "image/png": "[encoded data removed]",
            "text/plain": [
              "<Figure size 864x576 with 1 Axes>"
            ]
          },
          "metadata": {
            "tags": [],
            "needs_background": "light"
          }
        }
      ]
    },
    {
      "cell_type": "code",
      "metadata": {
        "colab": {
          "base_uri": "https://localhost:8080/"
        },
        "id": "LPbrJ7ECisOY",
        "outputId": "86963f00-2a6b-4d28-e808-630b92fb8ccb"
      },
      "source": [
        "out['per_error'] = 100 * out['abs_error']/out['actual']\n",
        "\n",
        "out['per_error'].describe()"
      ],
      "execution_count": null,
      "outputs": [
        {
          "output_type": "execute_result",
          "data": {
            "text/plain": [
              "count    24999.000000\n",
              "mean         4.625109\n",
              "std          6.966126\n",
              "min          0.000000\n",
              "25%          0.543304\n",
              "50%          2.206945\n",
              "75%          5.546584\n",
              "max         50.642192\n",
              "Name: per_error, dtype: float64"
            ]
          },
          "metadata": {
            "tags": []
          },
          "execution_count": 23
        }
      ]
    },
    {
      "cell_type": "code",
      "metadata": {
        "colab": {
          "base_uri": "https://localhost:8080/",
          "height": 513
        },
        "id": "vWgN5Z_EjTiD",
        "outputId": "786e2ba0-76fc-4e7f-96c7-20a3546cd3a5"
      },
      "source": [
        "plt.rcParams.update({'font.size': 18})\n",
        "\n",
        "plt.figure(figsize=(12, 8))\n",
        "sns.boxplot(data= out, x = 'groups', y = 'per_error', color = 'grey')\n",
        "#plt.title(\"Absolute Error Distribution by Chromatic Number\")\n",
        "plt.ylabel(\"Percentage Error\")\n",
        "plt.xlabel(\"Chromatic Number \")\n",
        "plt.show()  "
      ],
      "execution_count": null,
      "outputs": [
        {
          "output_type": "display_data",
          "data": {
            "image/png": "[encoded data removed]",
            "text/plain": [
              "<Figure size 864x576 with 1 Axes>"
            ]
          },
          "metadata": {
            "tags": [],
            "needs_background": "light"
          }
        }
      ]
    },
    {
      "cell_type": "code",
      "metadata": {
        "colab": {
          "base_uri": "https://localhost:8080/"
        },
        "id": "7QZh4nKoevVg",
        "outputId": "d2f25670-ef60-4929-956e-42682a49001a"
      },
      "source": [
        "compute_pl(out, 1)\n",
        "compute_pl(out, 0.5)"
      ],
      "execution_count": null,
      "outputs": [
        {
          "output_type": "stream",
          "text": [
            "% within  1 of true chromatic or clique #: 90.86763470538821\n",
            "% within  0.5 of true chromatic or clique #: 68.6947477899116\n"
          ],
          "name": "stdout"
        }
      ]
    },
    {
      "cell_type": "code",
      "metadata": {
        "colab": {
          "base_uri": "https://localhost:8080/"
        },
        "id": "gfHdGvhmlERB",
        "outputId": "672e3aa3-9eb5-4c01-c76f-ed033a559691"
      },
      "source": [
        "wide_cnn_chrom.summary()"
      ],
      "execution_count": null,
      "outputs": [
        {
          "output_type": "stream",
          "text": [
            "Model: \"wide_cnn\"\n",
            "_________________________________________________________________\n",
            "Layer (type)                 Output Shape              Param #   \n",
            "=================================================================\n",
            "input_1 (InputLayer)         [(None, 50, 50, 1)]       0         \n",
            "_________________________________________________________________\n",
            "conv2d (Conv2D)              multiple                  5120      \n",
            "_________________________________________________________________\n",
            "leaky_re_lu (LeakyReLU)      multiple                  0         \n",
            "_________________________________________________________________\n",
            "max_pooling2d (MaxPooling2D) multiple                  0         \n",
            "_________________________________________________________________\n",
            "conv2d_1 (Conv2D)            multiple                  294976    \n",
            "_________________________________________________________________\n",
            "leaky_re_lu_1 (LeakyReLU)    multiple                  0         \n",
            "_________________________________________________________________\n",
            "max_pooling2d_1 (MaxPooling2 multiple                  0         \n",
            "_________________________________________________________________\n",
            "flatten (Flatten)            multiple                  0         \n",
            "_________________________________________________________________\n",
            "conv2d_2 (Conv2D)            multiple                  13312     \n",
            "_________________________________________________________________\n",
            "leaky_re_lu_2 (LeakyReLU)    multiple                  0         \n",
            "_________________________________________________________________\n",
            "max_pooling2d_2 (MaxPooling2 multiple                  0         \n",
            "_________________________________________________________________\n",
            "conv2d_3 (Conv2D)            multiple                  819264    \n",
            "_________________________________________________________________\n",
            "leaky_re_lu_3 (LeakyReLU)    multiple                  0         \n",
            "_________________________________________________________________\n",
            "flatten_1 (Flatten)          multiple                  0         \n",
            "_________________________________________________________________\n",
            "conv2d_4 (Conv2D)            multiple                  51712     \n",
            "_________________________________________________________________\n",
            "leaky_re_lu_4 (LeakyReLU)    multiple                  0         \n",
            "_________________________________________________________________\n",
            "max_pooling2d_3 (MaxPooling2 multiple                  0         \n",
            "_________________________________________________________________\n",
            "conv2d_5 (Conv2D)            multiple                  3276864   \n",
            "_________________________________________________________________\n",
            "leaky_re_lu_5 (LeakyReLU)    multiple                  0         \n",
            "_________________________________________________________________\n",
            "flatten_2 (Flatten)          multiple                  0         \n",
            "_________________________________________________________________\n",
            "conv2d_6 (Conv2D)            multiple                  320512    \n",
            "_________________________________________________________________\n",
            "leaky_re_lu_6 (LeakyReLU)    multiple                  0         \n",
            "_________________________________________________________________\n",
            "flatten_3 (Flatten)          multiple                  0         \n",
            "_________________________________________________________________\n",
            "conv2d_7 (Conv2D)            multiple                  1280512   \n",
            "_________________________________________________________________\n",
            "leaky_re_lu_7 (LeakyReLU)    multiple                  0         \n",
            "_________________________________________________________________\n",
            "flatten_4 (Flatten)          multiple                  0         \n",
            "_________________________________________________________________\n",
            "concatenate (Concatenate)    multiple                  0         \n",
            "_________________________________________________________________\n",
            "dense (Dense)                multiple                  2726600   \n",
            "_________________________________________________________________\n",
            "leaky_re_lu_8 (LeakyReLU)    multiple                  0         \n",
            "_________________________________________________________________\n",
            "dense_1 (Dense)              multiple                  40200     \n",
            "_________________________________________________________________\n",
            "leaky_re_lu_9 (LeakyReLU)    multiple                  0         \n",
            "_________________________________________________________________\n",
            "dense_2 (Dense)              multiple                  40200     \n",
            "_________________________________________________________________\n",
            "leaky_re_lu_10 (LeakyReLU)   multiple                  0         \n",
            "_________________________________________________________________\n",
            "dense_3 (Dense)              multiple                  40200     \n",
            "_________________________________________________________________\n",
            "leaky_re_lu_11 (LeakyReLU)   multiple                  0         \n",
            "_________________________________________________________________\n",
            "dense_4 (Dense)              multiple                  40200     \n",
            "_________________________________________________________________\n",
            "leaky_re_lu_12 (LeakyReLU)   multiple                  0         \n",
            "_________________________________________________________________\n",
            "dense_5 (Dense)              multiple                  201       \n",
            "=================================================================\n",
            "Total params: 8,949,873\n",
            "Trainable params: 8,949,873\n",
            "Non-trainable params: 0\n",
            "_________________________________________________________________\n"
          ],
          "name": "stdout"
        }
      ]
    },
    {
      "cell_type": "markdown",
      "metadata": {
        "id": "Un7qsrK_ldJh"
      },
      "source": [
        "### Predicting the Maximum Clique Size"
      ]
    },
    {
      "cell_type": "code",
      "metadata": {
        "id": "kZP6HYlcNUCW",
        "colab": {
          "base_uri": "https://localhost:8080/"
        },
        "outputId": "9efbf50e-9c32-4c33-f325-a34bdfa806d0"
      },
      "source": [
        "from tensorflow.keras.callbacks import EarlyStopping\n",
        "\n",
        "early_stopping_callback = EarlyStopping(patience = 20, monitor = 'val_loss', restore_best_weights = True, \n",
        "                                        min_delta = 0.000001)\n",
        "\n",
        "wide_cnn_mcs = Wide_cnn()\n",
        "\n",
        "wide_cnn_mcs.compile(optimizer = tf.keras.optimizers.Adam(), loss = tf.keras.losses.MAE)\n",
        "\n",
        "wide_cnn_mcs.fit(x_train, y_train_mcs, \n",
        "                      validation_data = (x_dev, y_dev_mcs), \n",
        "                      epochs = 300, verbose = 0, callbacks = [early_stopping_callback])\n",
        "\n",
        "wide_cnn_mcs.evaluate(x = x_dev, y = y_dev_mcs)"
      ],
      "execution_count": null,
      "outputs": [
        {
          "output_type": "stream",
          "text": [
            "782/782 [==============================] - 6s 7ms/step - loss: 0.0095\n"
          ],
          "name": "stdout"
        },
        {
          "output_type": "execute_result",
          "data": {
            "text/plain": [
              "0.009527258574962616"
            ]
          },
          "metadata": {
            "tags": []
          },
          "execution_count": 27
        }
      ]
    },
    {
      "cell_type": "code",
      "metadata": {
        "id": "SicGwunW5ocq",
        "colab": {
          "base_uri": "https://localhost:8080/"
        },
        "outputId": "40afede9-7627-4494-c84c-8357b865e506"
      },
      "source": [
        "out = create_df_output(wide_cnn_mcs, y_test_mcs, x_test)\n",
        "\n",
        "show_percentiles(out)"
      ],
      "execution_count": null,
      "outputs": [
        {
          "output_type": "execute_result",
          "data": {
            "text/plain": [
              "count    24999.000000\n",
              "mean         0.473283\n",
              "std          0.479709\n",
              "min          0.000008\n",
              "25%          0.047849\n",
              "50%          0.333809\n",
              "75%          0.806319\n",
              "90%          1.029794\n",
              "95%          1.327928\n",
              "99%          2.038780\n",
              "100%         4.348522\n",
              "max          4.348522\n",
              "Name: abs_error, dtype: float64"
            ]
          },
          "metadata": {
            "tags": []
          },
          "execution_count": 28
        }
      ]
    },
    {
      "cell_type": "code",
      "metadata": {
        "colab": {
          "base_uri": "https://localhost:8080/"
        },
        "id": "gLDPDssUjrRl",
        "outputId": "0ecdc238-aa5a-40f4-9a65-b4b8483b2ea8"
      },
      "source": [
        "out['per_error'] = 100 * out['abs_error']/out['actual']\n",
        "\n",
        "out['per_error'].describe()"
      ],
      "execution_count": null,
      "outputs": [
        {
          "output_type": "execute_result",
          "data": {
            "text/plain": [
              "count    24999.000000\n",
              "mean         6.690554\n",
              "std          8.764792\n",
              "min          0.000191\n",
              "25%          0.854565\n",
              "50%          3.542391\n",
              "75%          8.518054\n",
              "max         72.173357\n",
              "Name: per_error, dtype: float64"
            ]
          },
          "metadata": {
            "tags": []
          },
          "execution_count": 29
        }
      ]
    },
    {
      "cell_type": "code",
      "metadata": {
        "colab": {
          "base_uri": "https://localhost:8080/"
        },
        "id": "hlj4oAZ9dIAj",
        "outputId": "e7676047-bab1-4781-96ed-c38fd1900f49"
      },
      "source": [
        "compute_pl(out, 1)\n",
        "compute_pl(out, 0.5)"
      ],
      "execution_count": null,
      "outputs": [
        {
          "output_type": "stream",
          "text": [
            "% within  1 of true chromatic or clique #: 87.95151806072244\n",
            "% within  0.5 of true chromatic or clique #: 60.13840553622145\n"
          ],
          "name": "stdout"
        }
      ]
    }
  ]
}